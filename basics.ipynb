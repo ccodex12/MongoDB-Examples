{
 "cells": [
  {
   "cell_type": "code",
   "execution_count": 3,
   "metadata": {},
   "outputs": [],
   "source": [
    "import pymongo"
   ]
  },
  {
   "cell_type": "code",
   "execution_count": 4,
   "metadata": {},
   "outputs": [],
   "source": [
    "#creating client\n",
    "client = pymongo.MongoClient('mongodb://localhost:27017/')"
   ]
  },
  {
   "cell_type": "code",
   "execution_count": 6,
   "metadata": {},
   "outputs": [],
   "source": [
    "#creating database\n",
    "db = client['items']"
   ]
  },
  {
   "cell_type": "code",
   "execution_count": 7,
   "metadata": {},
   "outputs": [
    {
     "data": {
      "text/plain": [
       "<pymongo.results.InsertManyResult at 0x13b9f24ecc0>"
      ]
     },
     "execution_count": 7,
     "metadata": {},
     "output_type": "execute_result"
    }
   ],
   "source": [
    "#inserting collection\n",
    "col = db.iteminfo\n",
    "col.insert_many([\n",
    "   { 'item': \"journal\", 'qty': 25, 'tags': [\"blank\", \"red\"], 'size': { 'h': 14, 'w': 21, 'uom': \"cm\" } },\n",
    "   { 'item': \"mat\", 'qty': 85, 'tags': [\"gray\"], 'size': { 'h': 27.9, 'w': 35.5, 'uom': \"cm\" } },\n",
    "   { 'item': \"mousepad\", 'qty': 25, 'tags': [\"gel\", \"blue\"], 'size': { 'h': 19, 'w': 22.85, 'uom': \"cm\" } }\n",
    "])"
   ]
  },
  {
   "cell_type": "code",
   "execution_count": 9,
   "metadata": {},
   "outputs": [
    {
     "name": "stdout",
     "output_type": "stream",
     "text": [
      "{'_id': ObjectId('623d5830c63febd6306b463d'), 'item': 'journal', 'qty': 25, 'tags': ['blank', 'red'], 'size': {'h': 14, 'w': 21, 'uom': 'cm'}}\n"
     ]
    }
   ],
   "source": [
    "#reading the collection or querying\n",
    "for record in col.find({'item': 'journal'}):\n",
    "    print(record)"
   ]
  },
  {
   "cell_type": "code",
   "execution_count": 10,
   "metadata": {},
   "outputs": [
    {
     "name": "stdout",
     "output_type": "stream",
     "text": [
      "{'_id': ObjectId('623d5830c63febd6306b463d'), 'item': 'journal', 'qty': 25, 'tags': ['blank', 'red'], 'size': {'h': 14, 'w': 21, 'uom': 'cm'}}\n",
      "{'_id': ObjectId('623d5830c63febd6306b463e'), 'item': 'mat', 'qty': 85, 'tags': ['gray'], 'size': {'h': 27.9, 'w': 35.5, 'uom': 'cm'}}\n",
      "{'_id': ObjectId('623d5830c63febd6306b463f'), 'item': 'mousepad', 'qty': 25, 'tags': ['gel', 'blue'], 'size': {'h': 19, 'w': 22.85, 'uom': 'cm'}}\n"
     ]
    }
   ],
   "source": [
    "for record in col.find({}):\n",
    "    print(record)"
   ]
  },
  {
   "cell_type": "code",
   "execution_count": 12,
   "metadata": {},
   "outputs": [
    {
     "name": "stdout",
     "output_type": "stream",
     "text": [
      "{'_id': ObjectId('623d5830c63febd6306b463d'), 'item': 'journal', 'qty': 25, 'tags': ['blank', 'red'], 'size': {'h': 14, 'w': 21, 'uom': 'cm'}}\n",
      "{'_id': ObjectId('623d5830c63febd6306b463e'), 'item': 'mat', 'qty': 85, 'tags': ['gray'], 'size': {'h': 27.9, 'w': 35.5, 'uom': 'cm'}}\n"
     ]
    }
   ],
   "source": [
    "#operator - $in\n",
    "for record in col.find({'item': {'$in':['journal', 'mat']}}):\n",
    "    print(record)"
   ]
  },
  {
   "cell_type": "code",
   "execution_count": 13,
   "metadata": {},
   "outputs": [
    {
     "name": "stdout",
     "output_type": "stream",
     "text": [
      "{'_id': ObjectId('623d5830c63febd6306b463e'), 'item': 'mat', 'qty': 85, 'tags': ['gray'], 'size': {'h': 27.9, 'w': 35.5, 'uom': 'cm'}}\n"
     ]
    }
   ],
   "source": [
    "#operator = $lt / $gt\n",
    "for record in col.find({'qty': {'$gt':25}}):\n",
    "    print(record)"
   ]
  },
  {
   "cell_type": "code",
   "execution_count": null,
   "metadata": {},
   "outputs": [],
   "source": []
  },
  {
   "cell_type": "code",
   "execution_count": 16,
   "metadata": {},
   "outputs": [
    {
     "data": {
      "text/plain": [
       "<pymongo.results.UpdateResult at 0x13b9f252ac0>"
      ]
     },
     "execution_count": 16,
     "metadata": {},
     "output_type": "execute_result"
    }
   ],
   "source": [
    "#updating the records\n",
    "col.update_many({'item': 'mat'},\n",
    "                {'$set': {'size.h':30},\n",
    "                '$currentDate':{'last_modified':True}})"
   ]
  },
  {
   "cell_type": "code",
   "execution_count": 17,
   "metadata": {},
   "outputs": [
    {
     "name": "stdout",
     "output_type": "stream",
     "text": [
      "{'_id': ObjectId('623d5830c63febd6306b463d'), 'item': 'journal', 'qty': 25, 'tags': ['blank', 'red'], 'size': {'h': 14, 'w': 21, 'uom': 'cm'}}\n",
      "{'_id': ObjectId('623d5830c63febd6306b463e'), 'item': 'mat', 'qty': 85, 'tags': ['gray'], 'size': {'h': 30, 'w': 35.5, 'uom': 'cm'}, 'last_modified': datetime.datetime(2022, 3, 25, 6, 10, 33, 171000)}\n",
      "{'_id': ObjectId('623d5830c63febd6306b463f'), 'item': 'mousepad', 'qty': 25, 'tags': ['gel', 'blue'], 'size': {'h': 19, 'w': 22.85, 'uom': 'cm'}}\n"
     ]
    }
   ],
   "source": [
    "for record in col.find({}):\n",
    "    print(record)"
   ]
  },
  {
   "cell_type": "code",
   "execution_count": 18,
   "metadata": {},
   "outputs": [
    {
     "data": {
      "text/plain": [
       "<pymongo.results.UpdateResult at 0x13b9f231d40>"
      ]
     },
     "execution_count": 18,
     "metadata": {},
     "output_type": "execute_result"
    }
   ],
   "source": [
    "col.replace_one({'item': 'mat'},\n",
    "                { 'item': \"mat\", 'qty': 85, 'tags': [\"gray\"], 'size': { 'h': 27.9, 'w': 35.5, 'uom': \"cm\" } })"
   ]
  },
  {
   "cell_type": "code",
   "execution_count": 19,
   "metadata": {},
   "outputs": [
    {
     "name": "stdout",
     "output_type": "stream",
     "text": [
      "{'_id': ObjectId('623d5830c63febd6306b463e'), 'item': 'mat', 'qty': 85, 'tags': ['gray'], 'size': {'h': 27.9, 'w': 35.5, 'uom': 'cm'}}\n"
     ]
    }
   ],
   "source": [
    "for record in col.find({'item': 'mat'}):\n",
    "    print(record)"
   ]
  },
  {
   "cell_type": "code",
   "execution_count": 20,
   "metadata": {},
   "outputs": [
    {
     "data": {
      "text/plain": [
       "<pymongo.results.DeleteResult at 0x13b9f29b4c0>"
      ]
     },
     "execution_count": 20,
     "metadata": {},
     "output_type": "execute_result"
    }
   ],
   "source": [
    "#deleting a collection\n",
    "col.delete_one({'item': 'mat'})"
   ]
  },
  {
   "cell_type": "code",
   "execution_count": 21,
   "metadata": {},
   "outputs": [
    {
     "name": "stdout",
     "output_type": "stream",
     "text": [
      "{'_id': ObjectId('623d5830c63febd6306b463d'), 'item': 'journal', 'qty': 25, 'tags': ['blank', 'red'], 'size': {'h': 14, 'w': 21, 'uom': 'cm'}}\n",
      "{'_id': ObjectId('623d5830c63febd6306b463f'), 'item': 'mousepad', 'qty': 25, 'tags': ['gel', 'blue'], 'size': {'h': 19, 'w': 22.85, 'uom': 'cm'}}\n"
     ]
    }
   ],
   "source": [
    "for record in col.find({}):\n",
    "    print(record)"
   ]
  },
  {
   "cell_type": "code",
   "execution_count": 22,
   "metadata": {},
   "outputs": [
    {
     "data": {
      "text/plain": [
       "<pymongo.results.InsertOneResult at 0x13b9f2421c0>"
      ]
     },
     "execution_count": 22,
     "metadata": {},
     "output_type": "execute_result"
    }
   ],
   "source": [
    "col.insert_one({ 'item': \"mat\", 'qty': 85, 'tags': [\"gray\"], 'size': { 'h': 27.9, 'w': 35.5, 'uom': \"cm\" } })"
   ]
  },
  {
   "cell_type": "code",
   "execution_count": 23,
   "metadata": {},
   "outputs": [
    {
     "name": "stdout",
     "output_type": "stream",
     "text": [
      "{'_id': ObjectId('623d5830c63febd6306b463d'), 'item': 'journal', 'qty': 25, 'tags': ['blank', 'red'], 'size': {'h': 14, 'w': 21, 'uom': 'cm'}}\n",
      "{'_id': ObjectId('623d5830c63febd6306b463f'), 'item': 'mousepad', 'qty': 25, 'tags': ['gel', 'blue'], 'size': {'h': 19, 'w': 22.85, 'uom': 'cm'}}\n",
      "{'_id': ObjectId('623d5dedc63febd6306b4640'), 'item': 'mat', 'qty': 85, 'tags': ['gray'], 'size': {'h': 27.9, 'w': 35.5, 'uom': 'cm'}}\n"
     ]
    }
   ],
   "source": [
    "for record in col.find({}):\n",
    "    print(record)"
   ]
  },
  {
   "cell_type": "code",
   "execution_count": 24,
   "metadata": {},
   "outputs": [
    {
     "name": "stdout",
     "output_type": "stream",
     "text": [
      "{'_id': 0.0, 'name': 'Pepperoni', 'size': 'small', 'price': 19.0, 'quantity': 10.0, 'date': datetime.datetime(2021, 3, 13, 8, 14, 30)}\n",
      "{'_id': 1.0, 'name': 'Pepperoni', 'size': 'medium', 'price': 20.0, 'quantity': 20.0, 'date': datetime.datetime(2021, 3, 13, 9, 13, 24)}\n",
      "{'_id': 2.0, 'name': 'Pepperoni', 'size': 'large', 'price': 21.0, 'quantity': 30.0, 'date': datetime.datetime(2021, 3, 17, 9, 22, 12)}\n",
      "{'_id': 3.0, 'name': 'Cheese', 'size': 'small', 'price': 12.0, 'quantity': 15.0, 'date': datetime.datetime(2021, 3, 13, 11, 21, 39, 736000)}\n",
      "{'_id': 4.0, 'name': 'Cheese', 'size': 'medium', 'price': 13.0, 'quantity': 50.0, 'date': datetime.datetime(2022, 1, 12, 21, 23, 13, 331000)}\n",
      "{'_id': 5.0, 'name': 'Cheese', 'size': 'large', 'price': 14.0, 'quantity': 10.0, 'date': datetime.datetime(2022, 1, 12, 5, 8, 13)}\n",
      "{'_id': 6.0, 'name': 'Vegan', 'size': 'small', 'price': 17.0, 'quantity': 10.0, 'date': datetime.datetime(2021, 1, 13, 5, 8, 13)}\n",
      "{'_id': 7.0, 'name': 'Vegan', 'size': 'medium', 'price': 18.0, 'quantity': 10.0, 'date': datetime.datetime(2021, 1, 13, 5, 10, 13)}\n"
     ]
    }
   ],
   "source": [
    "db_pizza = client['Pizza']\n",
    "pizza = db_pizza.orders\n",
    "for record in pizza.find({}):\n",
    "    print(record)"
   ]
  },
  {
   "cell_type": "code",
   "execution_count": 30,
   "metadata": {},
   "outputs": [
    {
     "data": {
      "text/plain": [
       "<pymongo.command_cursor.CommandCursor at 0x13b9ef98940>"
      ]
     },
     "execution_count": 30,
     "metadata": {},
     "output_type": "execute_result"
    }
   ],
   "source": [
    "#Aggregation\n",
    "pizza.aggregate([{'$group': \n",
    "                {'_id':'$size', \n",
    "                'Total_cost':{'$sum':'$price'}\n",
    "                }}])"
   ]
  }
 ],
 "metadata": {
  "interpreter": {
   "hash": "31ff804e05c542abfdab620000e5333bc9afc6a565bbee95afa27485d8eec998"
  },
  "kernelspec": {
   "display_name": "Python 3.8.8 ('base')",
   "language": "python",
   "name": "python3"
  },
  "language_info": {
   "codemirror_mode": {
    "name": "ipython",
    "version": 3
   },
   "file_extension": ".py",
   "mimetype": "text/x-python",
   "name": "python",
   "nbconvert_exporter": "python",
   "pygments_lexer": "ipython3",
   "version": "3.8.8"
  },
  "orig_nbformat": 4
 },
 "nbformat": 4,
 "nbformat_minor": 2
}
